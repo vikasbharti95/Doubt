{
 "cells": [
  {
   "cell_type": "markdown",
   "id": "434e9c73",
   "metadata": {},
   "source": [
    "## Write a Python Program to Add Two Matrices?"
   ]
  },
  {
   "cell_type": "code",
   "execution_count": 6,
   "id": "00a89a06",
   "metadata": {},
   "outputs": [],
   "source": [
    "def Add2matrices1(x,y):\n",
    "    if len(x) == len(y) and len(x[0])==len(y[0]): # checking whether no of rows and column are same\n",
    "        for i in range(len(x)): #iterating through columns\n",
    "            for j in range(len(x[0])):\n",
    "                x[i][j] = x[i][j] + y[i][j]\n",
    "    else:\n",
    "        print(\"please enter matrix of same rows and columns\")\n",
    "    print(x)\n",
    "# my code is working fine but it also update the elements of its argument. but even if i use shallow copy then also my \n",
    "# result is same. like below\n",
    "    \n",
    "def Add2matrices(x,y):\n",
    "    import copy\n",
    "    t = copy.copy(x)\n",
    "    if len(t) == len(y) and len(t[0])==len(y[0]): # checking whether no of rows and column are same\n",
    "        for i in range(len(t)): #iterating through columns\n",
    "            for j in range(len(t[0])):\n",
    "                t[i][j] = t[i][j] + y[i][j]\n",
    "    else:\n",
    "        print(\"please enter matrix of same rows and columns\")\n",
    "    print(t)\n",
    "    \n",
    "# both the function produce same result and same problem"
   ]
  },
  {
   "cell_type": "code",
   "execution_count": 3,
   "id": "fba72e08",
   "metadata": {},
   "outputs": [
    {
     "name": "stdout",
     "output_type": "stream",
     "text": [
      "[[17, 15, 4], [10, 12, 9], [11, 13, 18]]\n"
     ]
    }
   ],
   "source": [
    "a = [[12,7,3],\n",
    "    [4 ,5,6],\n",
    "    [7 ,8,9]]\n",
    "b = [[5,8,1],\n",
    "    [6,7,3],\n",
    "    [4,5,9]]\n",
    "Add2matrices(a,b)\n",
    "# output: [[17, 15, 4], [10, 12, 9], [11, 13, 18]]\n",
    "# but all elements of variable a also updated with this value"
   ]
  },
  {
   "cell_type": "markdown",
   "id": "8a356690",
   "metadata": {},
   "source": [
    "Query:\n",
    "1- can i import a module inside a function?\n",
    "2- what to do in this case if i dont want to update the argument value?"
   ]
  }
 ],
 "metadata": {
  "kernelspec": {
   "display_name": "Python 3 (ipykernel)",
   "language": "python",
   "name": "python3"
  },
  "language_info": {
   "codemirror_mode": {
    "name": "ipython",
    "version": 3
   },
   "file_extension": ".py",
   "mimetype": "text/x-python",
   "name": "python",
   "nbconvert_exporter": "python",
   "pygments_lexer": "ipython3",
   "version": "3.9.7"
  }
 },
 "nbformat": 4,
 "nbformat_minor": 5
}
